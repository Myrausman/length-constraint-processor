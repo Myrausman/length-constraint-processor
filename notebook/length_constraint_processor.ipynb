{
  "nbformat": 4,
  "nbformat_minor": 0,
  "metadata": {
    "colab": {
      "provenance": []
    },
    "kernelspec": {
      "name": "python3",
      "display_name": "Python 3"
    },
    "language_info": {
      "name": "python"
    }
  },
  "cells": [
    {
      "cell_type": "code",
      "execution_count": 20,
      "metadata": {
        "id": "9iRX2EPS9HiS"
      },
      "outputs": [],
      "source": [
        "def process_list(input_list):\n",
        "    if len(input_list) % 10 != 0:\n",
        "      raise ValueError(\"The list must be a multiple of 10 in length.\")\n",
        "\n",
        "    return [num for i, num in enumerate(input_list) if (i+1) % 2 != 0 and (i+1) % 3 != 0]"
      ]
    },
    {
      "cell_type": "code",
      "source": [
        "import pytest\n",
        "def test_process_list():\n",
        "  assert process_list([1, 2, 3, 4, 5, 6, 7, 8, 9, 10]) == [1, 5, 7]\n",
        "  print(True)\n",
        "  with pytest.raises(ValueError):\n",
        "    process_list([1, 2, 3, 4, 5, 6, 7, 8, 9])\n",
        "  print(True)\n",
        "test_process_list()"
      ],
      "metadata": {
        "colab": {
          "base_uri": "https://localhost:8080/"
        },
        "id": "TYC0mPCW-Eyz",
        "outputId": "d89e33a5-993e-4d55-f938-873cacf45652"
      },
      "execution_count": 21,
      "outputs": [
        {
          "output_type": "stream",
          "name": "stdout",
          "text": [
            "True\n",
            "True\n"
          ]
        }
      ]
    },
    {
      "cell_type": "code",
      "source": [
        "try:\n",
        "    input_list =[1, 2, 3, 4, 5, 6, 7, 8, 9, 10]\n",
        "    result_list = process_list(input_list)\n",
        "    print(\"Input List:\", input_list)\n",
        "    print(\"Modified List:\", result_list)\n",
        "\n",
        "except ValueError as e:\n",
        "    print(e)\n"
      ],
      "metadata": {
        "colab": {
          "base_uri": "https://localhost:8080/"
        },
        "id": "ds_SCgPGA9If",
        "outputId": "0176ae1f-9423-4c48-8dba-892a7094a8ef"
      },
      "execution_count": 22,
      "outputs": [
        {
          "output_type": "stream",
          "name": "stdout",
          "text": [
            "Input List: [1, 2, 3, 4, 5, 6, 7, 8, 9, 10]\n",
            "Modified List: [1, 5, 7]\n"
          ]
        }
      ]
    }
  ]
}